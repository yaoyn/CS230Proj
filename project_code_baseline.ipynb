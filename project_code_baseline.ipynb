{
 "cells": [
  {
   "cell_type": "code",
   "execution_count": 1,
   "metadata": {
    "colab": {},
    "colab_type": "code",
    "id": "BFcvASaOdprx"
   },
   "outputs": [
    {
     "name": "stderr",
     "output_type": "stream",
     "text": [
      "Using TensorFlow backend.\n"
     ]
    }
   ],
   "source": [
    "# from: https://www.kaggle.com/sid321axn/step-wise-approach-cnn-model-77-0344-accuracy\n",
    "%matplotlib inline\n",
    "import matplotlib.pyplot as plt\n",
    "import numpy as np\n",
    "import pandas as pd\n",
    "import os\n",
    "from glob import glob\n",
    "import seaborn as sns\n",
    "from PIL import Image\n",
    "# np.random.seed(123)\n",
    "from sklearn.preprocessing import label_binarize\n",
    "from sklearn.metrics import confusion_matrix\n",
    "import itertools\n",
    "\n",
    "# import tensorflow as tf\n",
    "\n",
    "import keras\n",
    "from keras.utils.np_utils import to_categorical # used for converting labels to one-hot-encoding\n",
    "from keras.models import Sequential\n",
    "from keras.layers import Dense, Dropout, Flatten, Conv2D, MaxPool2D\n",
    "from keras import backend as K\n",
    "\n",
    "import itertools\n",
    "from keras.layers.normalization import BatchNormalization\n",
    "from keras.utils.np_utils import to_categorical # convert to one-hot-encoding\n",
    "\n",
    "from keras.optimizers import Adam\n",
    "from keras.preprocessing.image import ImageDataGenerator\n",
    "from keras.callbacks import ReduceLROnPlateau\n",
    "from sklearn.model_selection import train_test_split"
   ]
  },
  {
   "cell_type": "code",
   "execution_count": 21,
   "metadata": {
    "colab": {},
    "colab_type": "code",
    "id": "iHHV7azpds6h"
   },
   "outputs": [],
   "source": [
    "# from: https://www.kaggle.com/sid321axn/step-wise-approach-cnn-model-77-0344-accuracy\n",
    "#1. Function to plot model's validation loss and validation accuracy\n",
    "def plot_model_history(model_history):\n",
    "    fig, axs = plt.subplots(1,2,figsize=(15,5))\n",
    "    # summarize history for accuracy\n",
    "    axs[0].plot(range(1,len(model_history.history['acc'])+1),model_history.history['acc'])\n",
    "    axs[0].plot(range(1,len(model_history.history['val_acc'])+1),model_history.history['val_acc'])\n",
    "    axs[0].set_title('Model Accuracy')\n",
    "    axs[0].set_ylabel('Accuracy')\n",
    "    axs[0].set_xlabel('Epoch')\n",
    "    axs[0].set_xticks(np.arange(1,len(model_history.history['acc'])+1),len(model_history.history['acc'])/10)\n",
    "    axs[0].legend(['train', 'val'], loc='best')\n",
    "    # summarize history for loss\n",
    "    axs[1].plot(range(1,len(model_history.history['loss'])+1),model_history.history['loss'])\n",
    "    axs[1].plot(range(1,len(model_history.history['val_loss'])+1),model_history.history['val_loss'])\n",
    "    axs[1].set_title('Model Loss')\n",
    "    axs[1].set_ylabel('Loss')\n",
    "    axs[1].set_xlabel('Epoch')\n",
    "    axs[1].set_xticks(np.arange(1,len(model_history.history['loss'])+1),len(model_history.history['loss'])/10)\n",
    "    axs[1].legend(['train', 'val'], loc='best')\n",
    "    plt.show()\n"
   ]
  },
  {
   "cell_type": "code",
   "execution_count": 3,
   "metadata": {
    "colab": {
     "base_uri": "https://localhost:8080/",
     "height": 34
    },
    "colab_type": "code",
    "executionInfo": {
     "elapsed": 359,
     "status": "ok",
     "timestamp": 1571869902031,
     "user": {
      "displayName": "Yinuo Yao",
      "photoUrl": "",
      "userId": "12766773105987925733"
     },
     "user_tz": 420
    },
    "id": "5StTo6W_lHLG",
    "outputId": "4fcb2bca-1c9e-451c-b598-4baac30c32c6"
   },
   "outputs": [],
   "source": [
    "# from: https://www.kaggle.com/sid321axn/step-wise-approach-cnn-model-77-0344-accuracy\n",
    "# load_type: subset means only portion based on subset_frac is loaded\n",
    "#          : resize means shrinking the images\n",
    "# train, val and test frac is based on the amount of loaded data.\n",
    "path = '/home/ubuntu/'\n",
    "folder = 'skin-cancer-mnist-ham10000'\n",
    "base_dir = os.path.join(path, folder)\n",
    "load_type = 'full_resize' # 'subset', 'subset_resize, 'full', 'full_resize'\n",
    "subset_frac = 0.2\n",
    "train_frac, val_frac, test_frac = 0.9, 0.05, 0.05\n",
    "\n",
    "if (load_type == 'subset' or load_type == 'full'):\n",
    "    img_h = 450\n",
    "    img_w = 600\n",
    "elif (load_type == 'subset_resize' or load_type == 'full_resize'):\n",
    "    img_h = 75\n",
    "    img_w = 100    \n",
    "\n",
    "# Merging images from both folders HAM10000_images_part1.zip and HAM10000_images_part2.zip into one dictionary\n",
    "imageid_path_dict = {os.path.splitext(os.path.basename(x))[0]: x\n",
    "                     for x in glob(os.path.join(base_dir, '*', '*.jpg'))}\n",
    "\n",
    "# This dictionary is useful for displaying more human-friendly labels later on\n",
    "lesion_type_dict = {\n",
    "    'nv': 'Melanocytic nevi',\n",
    "    'mel': 'Melanoma',\n",
    "    'bkl': 'Benign keratosis-like lesions ',\n",
    "    'bcc': 'Basal cell carcinoma',\n",
    "    'akiec': 'Actinic keratoses',\n",
    "    'vasc': 'Vascular lesions',\n",
    "    'df': 'Dermatofibroma'\n",
    "}\n"
   ]
  },
  {
   "cell_type": "code",
   "execution_count": 4,
   "metadata": {
    "colab": {
     "base_uri": "https://localhost:8080/",
     "height": 460
    },
    "colab_type": "code",
    "executionInfo": {
     "elapsed": 344,
     "status": "error",
     "timestamp": 1571869813516,
     "user": {
      "displayName": "Yinuo Yao",
      "photoUrl": "",
      "userId": "12766773105987925733"
     },
     "user_tz": 420
    },
    "id": "Grz9KlUhlWma",
    "outputId": "cd1c9737-d98a-46d2-f97a-76c00a14fde5"
   },
   "outputs": [
    {
     "data": {
      "text/html": [
       "<div>\n",
       "<style scoped>\n",
       "    .dataframe tbody tr th:only-of-type {\n",
       "        vertical-align: middle;\n",
       "    }\n",
       "\n",
       "    .dataframe tbody tr th {\n",
       "        vertical-align: top;\n",
       "    }\n",
       "\n",
       "    .dataframe thead th {\n",
       "        text-align: right;\n",
       "    }\n",
       "</style>\n",
       "<table border=\"1\" class=\"dataframe\">\n",
       "  <thead>\n",
       "    <tr style=\"text-align: right;\">\n",
       "      <th></th>\n",
       "      <th>lesion_id</th>\n",
       "      <th>image_id</th>\n",
       "      <th>dx</th>\n",
       "      <th>dx_type</th>\n",
       "      <th>age</th>\n",
       "      <th>sex</th>\n",
       "      <th>localization</th>\n",
       "      <th>path</th>\n",
       "      <th>cell_type</th>\n",
       "      <th>cell_type_idx</th>\n",
       "    </tr>\n",
       "  </thead>\n",
       "  <tbody>\n",
       "    <tr>\n",
       "      <th>0</th>\n",
       "      <td>HAM_0000118</td>\n",
       "      <td>ISIC_0027419</td>\n",
       "      <td>bkl</td>\n",
       "      <td>histo</td>\n",
       "      <td>80.0</td>\n",
       "      <td>male</td>\n",
       "      <td>scalp</td>\n",
       "      <td>/home/ubuntu/skin-cancer-mnist-ham10000/HAM100...</td>\n",
       "      <td>Benign keratosis-like lesions</td>\n",
       "      <td>2</td>\n",
       "    </tr>\n",
       "    <tr>\n",
       "      <th>1</th>\n",
       "      <td>HAM_0000118</td>\n",
       "      <td>ISIC_0025030</td>\n",
       "      <td>bkl</td>\n",
       "      <td>histo</td>\n",
       "      <td>80.0</td>\n",
       "      <td>male</td>\n",
       "      <td>scalp</td>\n",
       "      <td>/home/ubuntu/skin-cancer-mnist-ham10000/HAM100...</td>\n",
       "      <td>Benign keratosis-like lesions</td>\n",
       "      <td>2</td>\n",
       "    </tr>\n",
       "    <tr>\n",
       "      <th>2</th>\n",
       "      <td>HAM_0002730</td>\n",
       "      <td>ISIC_0026769</td>\n",
       "      <td>bkl</td>\n",
       "      <td>histo</td>\n",
       "      <td>80.0</td>\n",
       "      <td>male</td>\n",
       "      <td>scalp</td>\n",
       "      <td>/home/ubuntu/skin-cancer-mnist-ham10000/HAM100...</td>\n",
       "      <td>Benign keratosis-like lesions</td>\n",
       "      <td>2</td>\n",
       "    </tr>\n",
       "    <tr>\n",
       "      <th>3</th>\n",
       "      <td>HAM_0002730</td>\n",
       "      <td>ISIC_0025661</td>\n",
       "      <td>bkl</td>\n",
       "      <td>histo</td>\n",
       "      <td>80.0</td>\n",
       "      <td>male</td>\n",
       "      <td>scalp</td>\n",
       "      <td>/home/ubuntu/skin-cancer-mnist-ham10000/HAM100...</td>\n",
       "      <td>Benign keratosis-like lesions</td>\n",
       "      <td>2</td>\n",
       "    </tr>\n",
       "    <tr>\n",
       "      <th>4</th>\n",
       "      <td>HAM_0001466</td>\n",
       "      <td>ISIC_0031633</td>\n",
       "      <td>bkl</td>\n",
       "      <td>histo</td>\n",
       "      <td>75.0</td>\n",
       "      <td>male</td>\n",
       "      <td>ear</td>\n",
       "      <td>/home/ubuntu/skin-cancer-mnist-ham10000/HAM100...</td>\n",
       "      <td>Benign keratosis-like lesions</td>\n",
       "      <td>2</td>\n",
       "    </tr>\n",
       "  </tbody>\n",
       "</table>\n",
       "</div>"
      ],
      "text/plain": [
       "     lesion_id      image_id   dx dx_type   age   sex localization  \\\n",
       "0  HAM_0000118  ISIC_0027419  bkl   histo  80.0  male        scalp   \n",
       "1  HAM_0000118  ISIC_0025030  bkl   histo  80.0  male        scalp   \n",
       "2  HAM_0002730  ISIC_0026769  bkl   histo  80.0  male        scalp   \n",
       "3  HAM_0002730  ISIC_0025661  bkl   histo  80.0  male        scalp   \n",
       "4  HAM_0001466  ISIC_0031633  bkl   histo  75.0  male          ear   \n",
       "\n",
       "                                                path  \\\n",
       "0  /home/ubuntu/skin-cancer-mnist-ham10000/HAM100...   \n",
       "1  /home/ubuntu/skin-cancer-mnist-ham10000/HAM100...   \n",
       "2  /home/ubuntu/skin-cancer-mnist-ham10000/HAM100...   \n",
       "3  /home/ubuntu/skin-cancer-mnist-ham10000/HAM100...   \n",
       "4  /home/ubuntu/skin-cancer-mnist-ham10000/HAM100...   \n",
       "\n",
       "                        cell_type  cell_type_idx  \n",
       "0  Benign keratosis-like lesions               2  \n",
       "1  Benign keratosis-like lesions               2  \n",
       "2  Benign keratosis-like lesions               2  \n",
       "3  Benign keratosis-like lesions               2  \n",
       "4  Benign keratosis-like lesions               2  "
      ]
     },
     "execution_count": 4,
     "metadata": {},
     "output_type": "execute_result"
    }
   ],
   "source": [
    "# from: https://www.kaggle.com/sid321axn/step-wise-approach-cnn-model-77-0344-accuracy\n",
    "#Step 3: reading and processing data\n",
    "csv_filename = 'HAM10000_metadata.csv'\n",
    "df_curr = pd.read_csv(os.path.join(base_dir, csv_filename))\n",
    "\n",
    "# Creating New Columns for better readability\n",
    "df_curr['path'] = df_curr['image_id'].map(imageid_path_dict.get)\n",
    "df_curr['cell_type'] = df_curr['dx'].map(lesion_type_dict.get) \n",
    "df_curr['cell_type_idx'] = pd.Categorical(df_curr['cell_type']).codes\n",
    "df_curr.head()"
   ]
  },
  {
   "cell_type": "code",
   "execution_count": 5,
   "metadata": {
    "colab": {},
    "colab_type": "code",
    "id": "UcTLy5W4oVZE"
   },
   "outputs": [
    {
     "data": {
      "text/plain": [
       "lesion_id        0\n",
       "image_id         0\n",
       "dx               0\n",
       "dx_type          0\n",
       "age              0\n",
       "sex              0\n",
       "localization     0\n",
       "path             0\n",
       "cell_type        0\n",
       "cell_type_idx    0\n",
       "dtype: int64"
      ]
     },
     "execution_count": 5,
     "metadata": {},
     "output_type": "execute_result"
    }
   ],
   "source": [
    "# from: https://www.kaggle.com/sid321axn/step-wise-approach-cnn-model-77-0344-accuracy\n",
    "#Step 4: data cleaning\n",
    "df_curr.isnull().sum()\n",
    "df_curr['age'].fillna((df_curr['age'].mean()), inplace=True)\n",
    "df_curr.isnull().sum()"
   ]
  },
  {
   "cell_type": "code",
   "execution_count": 6,
   "metadata": {
    "colab": {},
    "colab_type": "code",
    "id": "JW5ZHj3ArUf6"
   },
   "outputs": [
    {
     "name": "stdout",
     "output_type": "stream",
     "text": [
      "full_resize\n"
     ]
    }
   ],
   "source": [
    "# from: https://www.kaggle.com/sid321axn/step-wise-approach-cnn-model-77-0344-accuracy\n",
    "#Step 6: loading and resizing of images\n",
    "if (load_type == 'subset'):\n",
    "    print('subset')\n",
    "    df_curr = df_curr.sample(frac=subset_frac)\n",
    "    m_curr = df_curr.shape[0] # percentage of total\n",
    "    df_curr['image'] = df_curr['path'].map(lambda x: np.asarray(Image.open(x)))\n",
    "elif (load_type == 'subset_resize'):\n",
    "    print('subset_resize')\n",
    "    df_curr = df_curr.sample(frac=subset_frac)\n",
    "    m_curr = df_curr.shape[0] # percentage of total\n",
    "    df_curr['image'] = df_curr['path'].map(lambda x: np.asarray(Image.open(x).resize((img_w,img_h))))\n",
    "elif (load_type == 'full'):\n",
    "    print(\"full\")\n",
    "    df_curr = df_curr\n",
    "    m_curr = df_curr.shape[0] # percentage of total\n",
    "    df_curr['image'] = df_curr['path'].map(lambda x: np.asarray(Image.open(x)))\n",
    "elif (load_type == 'full_resize'):\n",
    "    print(\"full_resize\")\n",
    "    m_curr = df_curr.shape[0] # percentage of total\n",
    "    df_curr['image'] = df_curr['path'].map(lambda x: np.asarray(Image.open(x).resize((img_w,img_h))))\n",
    "    \n",
    "df_X = df_curr.drop(columns=['cell_type_idx'], axis=1)\n",
    "df_Y = df_curr['cell_type_idx']"
   ]
  },
  {
   "cell_type": "code",
   "execution_count": 7,
   "metadata": {
    "colab": {},
    "colab_type": "code",
    "id": "3ybv5yjUrqP1"
   },
   "outputs": [],
   "source": [
    "# from: https://www.kaggle.com/sid321axn/step-wise-approach-cnn-model-77-0344-accuracy\n",
    "#Step 7: train test split\n",
    "x_train_o, x_test_o, y_train_o, y_test_o = train_test_split(df_X, df_Y, test_size=test_frac, random_state=1234)"
   ]
  },
  {
   "cell_type": "code",
   "execution_count": 8,
   "metadata": {},
   "outputs": [
    {
     "ename": "NameError",
     "evalue": "name 'x_train' is not defined",
     "output_type": "error",
     "traceback": [
      "\u001b[0;31m---------------------------------------------------------------------------\u001b[0m",
      "\u001b[0;31mNameError\u001b[0m                                 Traceback (most recent call last)",
      "\u001b[0;32m<ipython-input-8-16364edc599e>\u001b[0m in \u001b[0;36m<module>\u001b[0;34m()\u001b[0m\n\u001b[1;32m      1\u001b[0m \u001b[0;34m\u001b[0m\u001b[0m\n\u001b[0;32m----> 2\u001b[0;31m \u001b[0mprint\u001b[0m\u001b[0;34m(\u001b[0m\u001b[0mx_train\u001b[0m\u001b[0;34m.\u001b[0m\u001b[0mshape\u001b[0m\u001b[0;34m)\u001b[0m\u001b[0;34m\u001b[0m\u001b[0m\n\u001b[0m\u001b[1;32m      3\u001b[0m \u001b[0mprint\u001b[0m\u001b[0;34m(\u001b[0m\u001b[0mx_train\u001b[0m\u001b[0;34m[\u001b[0m\u001b[0;36m0\u001b[0m\u001b[0;34m]\u001b[0m\u001b[0;34m.\u001b[0m\u001b[0mshape\u001b[0m\u001b[0;34m)\u001b[0m\u001b[0;34m\u001b[0m\u001b[0m\n\u001b[1;32m      4\u001b[0m \u001b[0mprint\u001b[0m\u001b[0;34m(\u001b[0m\u001b[0mx_test\u001b[0m\u001b[0;34m.\u001b[0m\u001b[0mshape\u001b[0m\u001b[0;34m)\u001b[0m\u001b[0;34m\u001b[0m\u001b[0m\n",
      "\u001b[0;31mNameError\u001b[0m: name 'x_train' is not defined"
     ]
    }
   ],
   "source": [
    "\n",
    "print(x_train.shape)\n",
    "print(x_train[0].shape)\n",
    "print(x_test.shape)"
   ]
  },
  {
   "cell_type": "code",
   "execution_count": 9,
   "metadata": {},
   "outputs": [],
   "source": [
    "def data_mean_std(data):\n",
    "    std_list = []\n",
    "    for i in range(len(data)):\n",
    "        std_list.append(np.std(data[i]))\n",
    "    mu = np.mean(data)\n",
    "    sig = np.mean(np.asarray(std_list))\n",
    "    return mu, sig"
   ]
  },
  {
   "cell_type": "code",
   "execution_count": 10,
   "metadata": {},
   "outputs": [],
   "source": [
    "# # from: https://www.kaggle.com/sid321axn/step-wise-approach-cnn-model-77-0344-accuracy\n",
    "# #Step 8: normalization\n",
    "mu_train, sig_train = data_mean_std(x_train_o['image'].tolist())\n",
    "x_train = np.asarray(x_train_o['image'].tolist())\n",
    "x_test = np.asarray(x_test_o['image'].tolist())\n",
    "for i in range(x_train.shape[0]):\n",
    "    x_train[i,:,:,:] = (x_train[i,:,:,:] - mu_train) / sig_train\n",
    "x_test = (x_test - mu_train) / sig_train"
   ]
  },
  {
   "cell_type": "code",
   "execution_count": 11,
   "metadata": {
    "colab": {},
    "colab_type": "code",
    "id": "9HZTR8MBr2oK"
   },
   "outputs": [],
   "source": [
    "# from: https://www.kaggle.com/sid321axn/step-wise-approach-cnn-model-77-0344-accuracy\n",
    "#Step 9: label encoding\n",
    "# Perform one-hot encoding on the labels\n",
    "y_train = to_categorical(y_train_o, num_classes = 7)\n",
    "y_test = to_categorical(y_test_o, num_classes = 7)"
   ]
  },
  {
   "cell_type": "code",
   "execution_count": 12,
   "metadata": {
    "colab": {},
    "colab_type": "code",
    "id": "hsq7xpIAsBMA"
   },
   "outputs": [],
   "source": [
    "# from: https://www.kaggle.com/sid321axn/step-wise-approach-cnn-model-77-0344-accuracy\n",
    "#Step 10: splitting training and validation split\n",
    "test_frac_train = val_frac / train_frac\n",
    "x_train, x_validate, y_train, y_validate = train_test_split(x_train, y_train, test_size = test_frac_train, random_state = 2)\n",
    "\n",
    "# Reshape image in 3 dimensions (height = 75px, width = 100px , canal = 3)\n",
    "x_train = x_train.reshape(x_train.shape[0], *(img_h, img_w, 3))\n",
    "x_test = x_test.reshape(x_test.shape[0], *(img_h, img_w, 3))\n",
    "x_validate = x_validate.reshape(x_validate.shape[0], *(img_h, img_w, 3))"
   ]
  },
  {
   "cell_type": "code",
   "execution_count": 13,
   "metadata": {
    "colab": {},
    "colab_type": "code",
    "id": "_qhbKlxCsOIJ"
   },
   "outputs": [
    {
     "name": "stderr",
     "output_type": "stream",
     "text": [
      "WARNING: Logging before flag parsing goes to stderr.\n",
      "W1105 07:21:28.590972 140082397665024 deprecation_wrapper.py:119] From /home/ubuntu/anaconda3/envs/tensorflow_p36/lib/python3.6/site-packages/keras/backend/tensorflow_backend.py:74: The name tf.get_default_graph is deprecated. Please use tf.compat.v1.get_default_graph instead.\n",
      "\n",
      "W1105 07:21:28.621680 140082397665024 deprecation_wrapper.py:119] From /home/ubuntu/anaconda3/envs/tensorflow_p36/lib/python3.6/site-packages/keras/backend/tensorflow_backend.py:517: The name tf.placeholder is deprecated. Please use tf.compat.v1.placeholder instead.\n",
      "\n",
      "W1105 07:21:28.628526 140082397665024 deprecation_wrapper.py:119] From /home/ubuntu/anaconda3/envs/tensorflow_p36/lib/python3.6/site-packages/keras/backend/tensorflow_backend.py:4138: The name tf.random_uniform is deprecated. Please use tf.random.uniform instead.\n",
      "\n",
      "W1105 07:21:28.664613 140082397665024 deprecation_wrapper.py:119] From /home/ubuntu/anaconda3/envs/tensorflow_p36/lib/python3.6/site-packages/keras/backend/tensorflow_backend.py:3976: The name tf.nn.max_pool is deprecated. Please use tf.nn.max_pool2d instead.\n",
      "\n",
      "W1105 07:21:28.668242 140082397665024 deprecation_wrapper.py:119] From /home/ubuntu/anaconda3/envs/tensorflow_p36/lib/python3.6/site-packages/keras/backend/tensorflow_backend.py:133: The name tf.placeholder_with_default is deprecated. Please use tf.compat.v1.placeholder_with_default instead.\n",
      "\n",
      "W1105 07:21:28.676228 140082397665024 deprecation.py:506] From /home/ubuntu/anaconda3/envs/tensorflow_p36/lib/python3.6/site-packages/keras/backend/tensorflow_backend.py:3445: calling dropout (from tensorflow.python.ops.nn_ops) with keep_prob is deprecated and will be removed in a future version.\n",
      "Instructions for updating:\n",
      "Please use `rate` instead of `keep_prob`. Rate should be set to `rate = 1 - keep_prob`.\n"
     ]
    },
    {
     "name": "stdout",
     "output_type": "stream",
     "text": [
      "_________________________________________________________________\n",
      "Layer (type)                 Output Shape              Param #   \n",
      "=================================================================\n",
      "conv2d_1 (Conv2D)            (None, 75, 100, 32)       896       \n",
      "_________________________________________________________________\n",
      "conv2d_2 (Conv2D)            (None, 75, 100, 32)       9248      \n",
      "_________________________________________________________________\n",
      "max_pooling2d_1 (MaxPooling2 (None, 37, 50, 32)        0         \n",
      "_________________________________________________________________\n",
      "dropout_1 (Dropout)          (None, 37, 50, 32)        0         \n",
      "_________________________________________________________________\n",
      "flatten_1 (Flatten)          (None, 59200)             0         \n",
      "_________________________________________________________________\n",
      "dense_1 (Dense)              (None, 128)               7577728   \n",
      "_________________________________________________________________\n",
      "dropout_2 (Dropout)          (None, 128)               0         \n",
      "_________________________________________________________________\n",
      "dense_2 (Dense)              (None, 7)                 903       \n",
      "=================================================================\n",
      "Total params: 7,588,775\n",
      "Trainable params: 7,588,775\n",
      "Non-trainable params: 0\n",
      "_________________________________________________________________\n"
     ]
    }
   ],
   "source": [
    "# from: https://www.kaggle.com/sid321axn/step-wise-approach-cnn-model-77-0344-accuracy\n",
    "#Step 11: model building, CNN\n",
    "# Set the CNN model \n",
    "# my CNN architechture is In -> [[Conv2D->relu]*2 -> MaxPool2D -> Dropout]*2 -> Flatten -> Dense -> Dropout -> Out\n",
    "input_shape = (75, 100, 3)\n",
    "num_classes = 7\n",
    "\n",
    "model = Sequential()\n",
    "model.add(Conv2D(32, kernel_size=(3, 3),activation='relu',padding = 'Same',input_shape=input_shape))\n",
    "model.add(Conv2D(32,kernel_size=(3, 3), activation='relu',padding = 'Same',))\n",
    "model.add(MaxPool2D(pool_size = (2, 2)))\n",
    "model.add(Dropout(0.25))\n",
    "\n",
    "#model.add(Conv2D(64, (3, 3), activation='relu',padding = 'Same'))\n",
    "#model.add(Conv2D(64, (3, 3), activation='relu',padding = 'Same'))\n",
    "#model.add(MaxPool2D(pool_size=(2, 2)))\n",
    "#model.add(Dropout(0.40))\n",
    "\n",
    "model.add(Flatten())\n",
    "model.add(Dense(128, activation='relu'))\n",
    "model.add(Dropout(0.5))\n",
    "model.add(Dense(num_classes, activation='softmax'))\n",
    "model.summary()\n",
    "\n",
    "\n",
    "# # from: https://www.kaggle.com/sid321axn/step-wise-approach-cnn-model-77-0344-accuracy\n",
    "# #Step 11: model building, CNN\n",
    "# # Set the CNN model \n",
    "# # my CNN architechture is In -> [[Conv2D->relu]*2 -> MaxPool2D -> Dropout]*2 -> Flatten -> Dense -> Dropout -> Out\n",
    "# input_shape = (img_h, img_w, 3)\n",
    "# num_classes = 7\n",
    "\n",
    "# model = Sequential()\n",
    "# model.add(Conv2D(32, kernel_size=(3, 3),activation='relu',padding = 'Same',input_shape=input_shape))\n",
    "# # model.add(Conv2D(32,kernel_size=(3, 3), activation='relu',padding = 'Same',))\n",
    "# model.add(MaxPool2D(pool_size = (2, 2)))\n",
    "# # model.add(Dropout(0.25))\n",
    "\n",
    "# # model.add(Conv2D(64, (3, 3), activation='relu',padding = 'Same'))\n",
    "# model.add(Conv2D(64, (3, 3), activation='relu',padding = 'Same'))\n",
    "# model.add(MaxPool2D(pool_size=(2, 2)))\n",
    "# # model.add(Dropout(0.40))\n",
    "\n",
    "# model.add(Flatten())\n",
    "# model.add(Dense(128, activation='relu'))\n",
    "# #model.add(Dropout(0.5))\n",
    "# model.add(Dense(num_classes, activation='softmax'))\n",
    "# model.summary()"
   ]
  },
  {
   "cell_type": "code",
   "execution_count": 14,
   "metadata": {
    "colab": {},
    "colab_type": "code",
    "id": "8IFn3ycpsWDk"
   },
   "outputs": [
    {
     "name": "stderr",
     "output_type": "stream",
     "text": [
      "W1105 07:21:33.595742 140082397665024 deprecation_wrapper.py:119] From /home/ubuntu/anaconda3/envs/tensorflow_p36/lib/python3.6/site-packages/keras/optimizers.py:790: The name tf.train.Optimizer is deprecated. Please use tf.compat.v1.train.Optimizer instead.\n",
      "\n",
      "W1105 07:21:33.603338 140082397665024 deprecation_wrapper.py:119] From /home/ubuntu/anaconda3/envs/tensorflow_p36/lib/python3.6/site-packages/keras/backend/tensorflow_backend.py:3295: The name tf.log is deprecated. Please use tf.math.log instead.\n",
      "\n"
     ]
    }
   ],
   "source": [
    "# from: https://www.kaggle.com/sid321axn/step-wise-approach-cnn-model-77-0344-accuracy\n",
    "#Step 12: setting optimizer and annealer\n",
    "\n",
    "# Define the optimizer\n",
    "optimizer = Adam(lr=0.001, beta_1=0.9, beta_2=0.999, epsilon=None, decay=0.0, amsgrad=False)\n",
    "\n",
    "# Compile the model\n",
    "model.compile(optimizer = optimizer , loss = \"categorical_crossentropy\", metrics=[\"accuracy\"])\n",
    "\n",
    "# Set a learning rate annealer\n",
    "learning_rate_reduction = ReduceLROnPlateau(monitor='val_acc', \n",
    "                                            patience=3, \n",
    "                                            verbose=1, \n",
    "                                            factor=0.5, \n",
    "                                            min_lr=0.00001)\n",
    "\n",
    "\n",
    "# With data augmentation to prevent overfitting \n",
    "\n",
    "datagen = ImageDataGenerator(\n",
    "        featurewise_center=False,  # set input mean to 0 over the dataset\n",
    "        samplewise_center=False,  # set each sample mean to 0\n",
    "        featurewise_std_normalization=False,  # divide inputs by std of the dataset\n",
    "        samplewise_std_normalization=False,  # divide each input by its std\n",
    "        zca_whitening=False,  # apply ZCA whitening\n",
    "        rotation_range=10,  # randomly rotate images in the range (degrees, 0 to 180)\n",
    "        zoom_range = 0.1, # Randomly zoom image \n",
    "        width_shift_range=0.1,  # randomly shift images horizontally (fraction of total width)\n",
    "        height_shift_range=0.1,  # randomly shift images vertically (fraction of total height)\n",
    "        horizontal_flip=False,  # randomly flip images\n",
    "        vertical_flip=False)  # randomly flip images\n",
    "\n",
    "datagen.fit(x_train)"
   ]
  },
  {
   "cell_type": "code",
   "execution_count": 26,
   "metadata": {
    "colab": {},
    "colab_type": "code",
    "id": "ypLpWGLusks7"
   },
   "outputs": [
    {
     "name": "stderr",
     "output_type": "stream",
     "text": [
      "W1105 07:36:32.188235 140082397665024 deprecation.py:323] From /home/ubuntu/anaconda3/envs/tensorflow_p36/lib/python3.6/site-packages/tensorflow/python/ops/math_grad.py:1250: add_dispatch_support.<locals>.wrapper (from tensorflow.python.ops.array_ops) is deprecated and will be removed in a future version.\n",
      "Instructions for updating:\n",
      "Use tf.where in 2.0, which has the same broadcast rule as np.where\n"
     ]
    },
    {
     "name": "stdout",
     "output_type": "stream",
     "text": [
      "Epoch 1/15\n",
      "280/280 [==============================] - 124s 444ms/step - loss: 5.5916 - acc: 0.6527 - val_loss: 5.0883 - val_acc: 0.6843\n",
      "Epoch 2/15\n",
      "280/280 [==============================] - 124s 441ms/step - loss: 5.3493 - acc: 0.6681 - val_loss: 5.0883 - val_acc: 0.6843\n",
      "Epoch 3/15\n",
      "280/280 [==============================] - 123s 440ms/step - loss: 5.3434 - acc: 0.6685 - val_loss: 5.0883 - val_acc: 0.6843\n",
      "Epoch 4/15\n",
      "280/280 [==============================] - 123s 439ms/step - loss: 5.3401 - acc: 0.6687 - val_loss: 5.0883 - val_acc: 0.6843\n",
      "\n",
      "Epoch 00004: ReduceLROnPlateau reducing learning rate to 0.0005000000237487257.\n",
      "Epoch 5/15\n",
      "280/280 [==============================] - 123s 438ms/step - loss: 5.3657 - acc: 0.6671 - val_loss: 5.0883 - val_acc: 0.6843\n",
      "Epoch 6/15\n",
      "280/280 [==============================] - 124s 443ms/step - loss: 5.3337 - acc: 0.6691 - val_loss: 5.0883 - val_acc: 0.6843\n",
      "Epoch 7/15\n",
      "280/280 [==============================] - 125s 445ms/step - loss: 5.3526 - acc: 0.6679 - val_loss: 5.0883 - val_acc: 0.6843\n",
      "\n",
      "Epoch 00007: ReduceLROnPlateau reducing learning rate to 0.0002500000118743628.\n",
      "Epoch 8/15\n",
      "280/280 [==============================] - 124s 442ms/step - loss: 5.3577 - acc: 0.6676 - val_loss: 5.0883 - val_acc: 0.6843\n",
      "Epoch 9/15\n",
      "280/280 [==============================] - 123s 439ms/step - loss: 5.3298 - acc: 0.6693 - val_loss: 5.0883 - val_acc: 0.6843\n",
      "Epoch 10/15\n",
      "280/280 [==============================] - 123s 439ms/step - loss: 5.3752 - acc: 0.6665 - val_loss: 5.0883 - val_acc: 0.6843\n",
      "\n",
      "Epoch 00010: ReduceLROnPlateau reducing learning rate to 0.0001250000059371814.\n",
      "Epoch 11/15\n",
      "280/280 [==============================] - 123s 439ms/step - loss: 5.2999 - acc: 0.6711 - val_loss: 5.0883 - val_acc: 0.6843\n",
      "Epoch 12/15\n",
      "280/280 [==============================] - 123s 441ms/step - loss: 5.3750 - acc: 0.6665 - val_loss: 5.0883 - val_acc: 0.6843\n",
      "Epoch 13/15\n",
      "280/280 [==============================] - 123s 439ms/step - loss: 5.3454 - acc: 0.6684 - val_loss: 5.0883 - val_acc: 0.6843\n",
      "\n",
      "Epoch 00013: ReduceLROnPlateau reducing learning rate to 6.25000029685907e-05.\n",
      "Epoch 14/15\n",
      "280/280 [==============================] - 123s 439ms/step - loss: 5.3301 - acc: 0.6693 - val_loss: 5.0883 - val_acc: 0.6843\n",
      "Epoch 15/15\n",
      "280/280 [==============================] - 123s 438ms/step - loss: 5.3652 - acc: 0.6671 - val_loss: 5.0883 - val_acc: 0.6843\n"
     ]
    }
   ],
   "source": [
    "# from: https://www.kaggle.com/sid321axn/step-wise-approach-cnn-model-77-0344-accuracy\n",
    "#Step 13: fitting the model\n",
    "\n",
    "# Fit the model\n",
    "epochs = 15 \n",
    "batch_size = 32\n",
    "history = model.fit_generator(datagen.flow(x_train,y_train, batch_size=batch_size),\n",
    "                              epochs = epochs, validation_data = (x_validate,y_validate),\n",
    "                              verbose = 1, steps_per_epoch=x_train.shape[0] // batch_size\n",
    "                              , callbacks=[learning_rate_reduction])"
   ]
  },
  {
   "cell_type": "code",
   "execution_count": 22,
   "metadata": {},
   "outputs": [],
   "source": [
    "# Function to plot confusion matrix    \n",
    "def plot_confusion_matrix(cm, classes,\n",
    "                          normalize=False,\n",
    "                          title='Confusion matrix',\n",
    "                          cmap=plt.cm.Blues):\n",
    "    \"\"\"\n",
    "    This function prints and plots the confusion matrix.\n",
    "    Normalization can be applied by setting `normalize=True`.\n",
    "    \"\"\"\n",
    "    plt.imshow(cm, interpolation='nearest', cmap=cmap)\n",
    "    plt.title(title)\n",
    "    plt.colorbar()\n",
    "    tick_marks = np.arange(len(classes))\n",
    "    plt.xticks(tick_marks, classes, rotation=45)\n",
    "    plt.yticks(tick_marks, classes)\n",
    "\n",
    "    if normalize:\n",
    "        cm = cm.astype('float') / cm.sum(axis=1)[:, np.newaxis]\n",
    "\n",
    "    thresh = cm.max() / 2.\n",
    "    for i, j in itertools.product(range(cm.shape[0]), range(cm.shape[1])):\n",
    "        plt.text(j, i, cm[i, j],\n",
    "                 horizontalalignment=\"center\",\n",
    "                 color=\"white\" if cm[i, j] > thresh else \"black\")\n",
    "\n",
    "    plt.tight_layout()\n",
    "    plt.ylabel('True label')\n",
    "    plt.xlabel('Predicted label')"
   ]
  },
  {
   "cell_type": "code",
   "execution_count": 25,
   "metadata": {
    "colab": {},
    "colab_type": "code",
    "id": "x1scb-J1s5nt"
   },
   "outputs": [
    {
     "name": "stdout",
     "output_type": "stream",
     "text": [
      "501/501 [==============================] - 1s 3ms/step\n",
      "529/529 [==============================] - 2s 3ms/step\n",
      "501/501 [==============================] - 1s 3ms/step\n",
      "Train: accuracy = 0.115768  ;  loss = 1.887720\n",
      "Validation: accuracy = 0.270321  ;  loss_v = 9.835708\n",
      "Test: accuracy = 0.115768  ;  loss = 1.887720\n"
     ]
    },
    {
     "data": {
      "text/plain": [
       "Text(87.02500000000006, 0.5, 'Fraction classified incorrectly')"
      ]
     },
     "execution_count": 25,
     "metadata": {},
     "output_type": "execute_result"
    },
    {
     "data": {
      "image/png": "[encoded data removed]",
      "text/plain": [
       "<Figure size 432x288 with 2 Axes>"
      ]
     },
     "metadata": {},
     "output_type": "display_data"
    }
   ],
   "source": [
    "# from: https://www.kaggle.com/sid321axn/step-wise-approach-cnn-model-77-0344-accuracy\n",
    "#Step 14: model evaluation\n",
    "loss_t, accuracy_t = model.evaluate(x_test, y_test, verbose=1)\n",
    "loss_v, accuracy_v = model.evaluate(x_validate, y_validate, verbose=1)\n",
    "loss, accuracy = model.evaluate(x_test, y_test, verbose=1)\n",
    "print(\"Train: accuracy = %f  ;  loss = %f\" % (accuracy_t, loss_t,))\n",
    "print(\"Validation: accuracy = %f  ;  loss_v = %f\" % (accuracy_v, loss_v))\n",
    "print(\"Test: accuracy = %f  ;  loss = %f\" % (accuracy, loss))\n",
    "model.save(\"model_part1.h5\")\n",
    "\n",
    "#plot_model_history(history)\n",
    "\n",
    "\n",
    "# Predict the values from the validation dataset\n",
    "Y_pred = model.predict(x_validate)\n",
    "# Convert predictions classes to one hot vectors \n",
    "Y_pred_classes = np.argmax(Y_pred,axis = 1) \n",
    "# Convert validation observations to one hot vectors\n",
    "Y_true = np.argmax(y_validate,axis = 1) \n",
    "# compute the confusion matrix\n",
    "confusion_mtx = confusion_matrix(Y_true, Y_pred_classes)\n",
    "\n",
    " \n",
    "\n",
    "# plot the confusion matrix\n",
    "label_frac_error = 1 - np.diag(confusion_mtx) / np.sum(confusion_mtx, axis=1)\n",
    "plot_confusion_matrix(confusion_mtx, classes = range(len(label_frac_error))) \n",
    "plt.bar(np.arange(len(label_frac_error)),label_frac_error)\n",
    "plt.xlabel('True Label')\n",
    "plt.ylabel('Fraction classified incorrectly')"
   ]
  },
  {
   "cell_type": "code",
   "execution_count": null,
   "metadata": {},
   "outputs": [],
   "source": []
  }
 ],
 "metadata": {
  "colab": {
   "collapsed_sections": [],
   "name": "project_code.ipynb",
   "provenance": []
  },
  "kernelspec": {
   "display_name": "Python [conda env:tensorflow_p36]",
   "language": "python",
   "name": "conda-env-tensorflow_p36-py"
  },
  "language_info": {
   "codemirror_mode": {
    "name": "ipython",
    "version": 3
   },
   "file_extension": ".py",
   "mimetype": "text/x-python",
   "name": "python",
   "nbconvert_exporter": "python",
   "pygments_lexer": "ipython3",
   "version": "3.6.5"
  }
 },
 "nbformat": 4,
 "nbformat_minor": 1
}
